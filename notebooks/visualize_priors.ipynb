{
 "cells": [
  {
   "cell_type": "markdown",
   "metadata": {},
   "source": [
    "This script is to visualize the priors/anchors of the SSD framework. The code comes with little documentation, but in essence it visualizes the priors for different feature maps of the SSD framework.\n",
    "This way you can visualize where they are placed on the original image, how large they are and how many priors there are."
   ]
  },
  {
   "cell_type": "code",
   "execution_count": 1,
   "metadata": {},
   "outputs": [
    {
     "ename": "ModuleNotFoundError",
     "evalue": "No module named 'yacs'",
     "output_type": "error",
     "traceback": [
      "\u001b[1;31m---------------------------------------------------------------------------\u001b[0m",
      "\u001b[1;31mModuleNotFoundError\u001b[0m                       Traceback (most recent call last)",
      "\u001b[1;32mc:\\Users\\nebur\\OneDrive\\Skrivebord\\TDT4265\\Assignment4\\SSD\\notebooks\\visualize_priors.ipynb Cell 2'\u001b[0m in \u001b[0;36m<cell line: 10>\u001b[1;34m()\u001b[0m\n\u001b[0;32m      <a href='vscode-notebook-cell:/c%3A/Users/nebur/OneDrive/Skrivebord/TDT4265/Assignment4/SSD/notebooks/visualize_priors.ipynb#ch0000001?line=7'>8</a>\u001b[0m \u001b[39m# Insert all modules a folder above\u001b[39;00m\n\u001b[0;32m      <a href='vscode-notebook-cell:/c%3A/Users/nebur/OneDrive/Skrivebord/TDT4265/Assignment4/SSD/notebooks/visualize_priors.ipynb#ch0000001?line=8'>9</a>\u001b[0m sys\u001b[39m.\u001b[39mpath\u001b[39m.\u001b[39minsert(\u001b[39m0\u001b[39m, \u001b[39mstr\u001b[39m(path\u001b[39m.\u001b[39mabsolute()\u001b[39m.\u001b[39mparent))\n\u001b[1;32m---> <a href='vscode-notebook-cell:/c%3A/Users/nebur/OneDrive/Skrivebord/TDT4265/Assignment4/SSD/notebooks/visualize_priors.ipynb#ch0000001?line=9'>10</a>\u001b[0m \u001b[39mfrom\u001b[39;00m \u001b[39mssd\u001b[39;00m\u001b[39m.\u001b[39;00m\u001b[39mconfig\u001b[39;00m\u001b[39m.\u001b[39;00m\u001b[39mdefaults\u001b[39;00m \u001b[39mimport\u001b[39;00m cfg\n\u001b[0;32m     <a href='vscode-notebook-cell:/c%3A/Users/nebur/OneDrive/Skrivebord/TDT4265/Assignment4/SSD/notebooks/visualize_priors.ipynb#ch0000001?line=10'>11</a>\u001b[0m \u001b[39mfrom\u001b[39;00m \u001b[39mssd\u001b[39;00m\u001b[39m.\u001b[39;00m\u001b[39mmodeling\u001b[39;00m\u001b[39m.\u001b[39;00m\u001b[39mbox_head\u001b[39;00m\u001b[39m.\u001b[39;00m\u001b[39mprior_box\u001b[39;00m \u001b[39mimport\u001b[39;00m PriorBox\n\u001b[0;32m     <a href='vscode-notebook-cell:/c%3A/Users/nebur/OneDrive/Skrivebord/TDT4265/Assignment4/SSD/notebooks/visualize_priors.ipynb#ch0000001?line=11'>12</a>\u001b[0m \u001b[39mfrom\u001b[39;00m \u001b[39mssd\u001b[39;00m\u001b[39m.\u001b[39;00m\u001b[39mutils\u001b[39;00m\u001b[39m.\u001b[39;00m\u001b[39mbox_utils\u001b[39;00m \u001b[39mimport\u001b[39;00m convert_locations_to_boxes\n",
      "File \u001b[1;32mc:\\Users\\nebur\\OneDrive\\Skrivebord\\TDT4265\\Assignment4\\SSD\\ssd\\config\\defaults.py:1\u001b[0m, in \u001b[0;36m<module>\u001b[1;34m\u001b[0m\n\u001b[1;32m----> <a href='file:///c%3A/Users/nebur/OneDrive/Skrivebord/TDT4265/Assignment4/SSD/ssd/config/defaults.py?line=0'>1</a>\u001b[0m \u001b[39mfrom\u001b[39;00m \u001b[39myacs\u001b[39;00m\u001b[39m.\u001b[39;00m\u001b[39mconfig\u001b[39;00m \u001b[39mimport\u001b[39;00m CfgNode \u001b[39mas\u001b[39;00m CN\n\u001b[0;32m      <a href='file:///c%3A/Users/nebur/OneDrive/Skrivebord/TDT4265/Assignment4/SSD/ssd/config/defaults.py?line=2'>3</a>\u001b[0m cfg \u001b[39m=\u001b[39m CN()\n\u001b[0;32m      <a href='file:///c%3A/Users/nebur/OneDrive/Skrivebord/TDT4265/Assignment4/SSD/ssd/config/defaults.py?line=4'>5</a>\u001b[0m cfg\u001b[39m.\u001b[39mMODEL \u001b[39m=\u001b[39m CN()\n",
      "\u001b[1;31mModuleNotFoundError\u001b[0m: No module named 'yacs'"
     ]
    }
   ],
   "source": [
    "import matplotlib.pyplot as plt\n",
    "import matplotlib\n",
    "import sys\n",
    "import torch\n",
    "import numpy as np\n",
    "import pathlib\n",
    "path = pathlib.Path()\n",
    "# Insert all modules a folder above\n",
    "sys.path.insert(0, str(path.absolute().parent))\n",
    "from ssd.config.defaults import cfg\n",
    "from ssd.modeling.box_head.prior_box import PriorBox\n",
    "from ssd.utils.box_utils import convert_locations_to_boxes\n",
    "def plot_bbox(ax, box, color, circle=True):\n",
    "    cx, cy, w, h = box\n",
    "    cx *= cfg.INPUT.IMAGE_SIZE[1]\n",
    "    cy *= cfg.INPUT.IMAGE_SIZE[0]\n",
    "    w *= cfg.INPUT.IMAGE_SIZE[1]\n",
    "    h *= cfg.INPUT.IMAGE_SIZE[0]\n",
    "    x1, y1 = cx + w/2, cy + h/2\n",
    "    x0, y0 = cx - w/2, cy - h/2\n",
    "    if circle:\n",
    "        ax.add_artist(matplotlib.patches.Ellipse([cx, cy], w,h, alpha=.1, color=color))\n",
    "        plt.plot(cx, cy, f\"o{color}\")\n",
    "    else:\n",
    "        plt.plot([x0, x0, x1, x1, x0],[y0, y1, y1, y0, y0], f\"{color}\", alpha=.1)"
   ]
  },
  {
   "cell_type": "code",
   "execution_count": 6,
   "metadata": {},
   "outputs": [
    {
     "ename": "NameError",
     "evalue": "name 'cfg' is not defined",
     "output_type": "error",
     "traceback": [
      "\u001b[1;31m---------------------------------------------------------------------------\u001b[0m",
      "\u001b[1;31mNameError\u001b[0m                                 Traceback (most recent call last)",
      "\u001b[1;32mc:\\Users\\nebur\\OneDrive\\Skrivebord\\TDT4265\\Assignment4\\SSD\\notebooks\\visualize_priors.ipynb Cell 3'\u001b[0m in \u001b[0;36m<cell line: 2>\u001b[1;34m()\u001b[0m\n\u001b[0;32m      <a href='vscode-notebook-cell:/c%3A/Users/nebur/OneDrive/Skrivebord/TDT4265/Assignment4/SSD/notebooks/visualize_priors.ipynb#ch0000002?line=0'>1</a>\u001b[0m config_path \u001b[39m=\u001b[39m \u001b[39m\"\u001b[39m\u001b[39m../configs/mnist.yaml\u001b[39m\u001b[39m\"\u001b[39m\n\u001b[1;32m----> <a href='vscode-notebook-cell:/c%3A/Users/nebur/OneDrive/Skrivebord/TDT4265/Assignment4/SSD/notebooks/visualize_priors.ipynb#ch0000002?line=1'>2</a>\u001b[0m cfg\u001b[39m.\u001b[39mmerge_from_file(config_path)\n\u001b[0;32m      <a href='vscode-notebook-cell:/c%3A/Users/nebur/OneDrive/Skrivebord/TDT4265/Assignment4/SSD/notebooks/visualize_priors.ipynb#ch0000002?line=2'>3</a>\u001b[0m PLOT_CIRCLE \u001b[39m=\u001b[39m \u001b[39mTrue\u001b[39;00m\n\u001b[0;32m      <a href='vscode-notebook-cell:/c%3A/Users/nebur/OneDrive/Skrivebord/TDT4265/Assignment4/SSD/notebooks/visualize_priors.ipynb#ch0000002?line=3'>4</a>\u001b[0m \u001b[39m# Set which priors we want to visualize\u001b[39;00m\n\u001b[0;32m      <a href='vscode-notebook-cell:/c%3A/Users/nebur/OneDrive/Skrivebord/TDT4265/Assignment4/SSD/notebooks/visualize_priors.ipynb#ch0000002?line=4'>5</a>\u001b[0m \u001b[39m# 0 is the last layer\u001b[39;00m\n",
      "\u001b[1;31mNameError\u001b[0m: name 'cfg' is not defined"
     ]
    }
   ],
   "source": [
    "config_path = \"../configs/mnist.yaml\"\n",
    "cfg.merge_from_file(config_path)\n",
    "PLOT_CIRCLE = True\n",
    "# Set which priors we want to visualize\n",
    "# 0 is the last layer\n",
    "layer_to_visualize = 5\n",
    "# Set which aspect ratio indices we want to visualize\n",
    "aspect_ratio_indices = [2]"
   ]
  },
  {
   "cell_type": "code",
   "execution_count": 2,
   "metadata": {},
   "outputs": [
    {
     "ename": "NameError",
     "evalue": "name 'PriorBox' is not defined",
     "output_type": "error",
     "traceback": [
      "\u001b[1;31m---------------------------------------------------------------------------\u001b[0m",
      "\u001b[1;31mNameError\u001b[0m                                 Traceback (most recent call last)",
      "\u001b[1;32mc:\\Users\\nebur\\OneDrive\\Skrivebord\\TDT4265\\Assignment4\\SSD\\notebooks\\visualize_priors.ipynb Cell 4'\u001b[0m in \u001b[0;36m<cell line: 3>\u001b[1;34m()\u001b[0m\n\u001b[0;32m      <a href='vscode-notebook-cell:/c%3A/Users/nebur/OneDrive/Skrivebord/TDT4265/Assignment4/SSD/notebooks/visualize_priors.ipynb#ch0000003?line=0'>1</a>\u001b[0m fig, ax \u001b[39m=\u001b[39m plt\u001b[39m.\u001b[39msubplots()\n\u001b[0;32m      <a href='vscode-notebook-cell:/c%3A/Users/nebur/OneDrive/Skrivebord/TDT4265/Assignment4/SSD/notebooks/visualize_priors.ipynb#ch0000003?line=1'>2</a>\u001b[0m \u001b[39m# Create prior box\u001b[39;00m\n\u001b[1;32m----> <a href='vscode-notebook-cell:/c%3A/Users/nebur/OneDrive/Skrivebord/TDT4265/Assignment4/SSD/notebooks/visualize_priors.ipynb#ch0000003?line=2'>3</a>\u001b[0m prior_box \u001b[39m=\u001b[39m PriorBox(cfg)\n\u001b[0;32m      <a href='vscode-notebook-cell:/c%3A/Users/nebur/OneDrive/Skrivebord/TDT4265/Assignment4/SSD/notebooks/visualize_priors.ipynb#ch0000003?line=3'>4</a>\u001b[0m priors \u001b[39m=\u001b[39m prior_box()\n\u001b[0;32m      <a href='vscode-notebook-cell:/c%3A/Users/nebur/OneDrive/Skrivebord/TDT4265/Assignment4/SSD/notebooks/visualize_priors.ipynb#ch0000003?line=4'>5</a>\u001b[0m \u001b[39mprint\u001b[39m(\u001b[39m\"\u001b[39m\u001b[39mPrior box shape:\u001b[39m\u001b[39m\"\u001b[39m, priors\u001b[39m.\u001b[39mshape)\n",
      "\u001b[1;31mNameError\u001b[0m: name 'PriorBox' is not defined"
     ]
    },
    {
     "data": {
      "image/png": "[encoded data removed]",
      "text/plain": [
       "<Figure size 432x288 with 1 Axes>"
      ]
     },
     "metadata": {
      "needs_background": "light"
     },
     "output_type": "display_data"
    }
   ],
   "source": [
    "fig, ax = plt.subplots()\n",
    "# Create prior box\n",
    "prior_box = PriorBox(cfg)\n",
    "priors = prior_box()\n",
    "print(\"Prior box shape:\", priors.shape)\n",
    "# Prior boxes are saved such that all prior boxes at the first feature map is saved first, then all prios at the next (lower) feature map\n",
    "print(\"First prior example:\", priors[5])\n",
    "locations = torch.zeros_like(priors)[None]\n",
    "priors_as_location = convert_locations_to_boxes(locations, priors,cfg.MODEL.CENTER_VARIANCE, cfg.MODEL.SIZE_VARIANCE)[0]\n",
    "\n",
    "# Set up our scene\n",
    "plt.ylim([-10, cfg.INPUT.IMAGE_SIZE[0]+10])\n",
    "plt.xlim([-10, cfg.INPUT.IMAGE_SIZE[1]+10])\n",
    "\n",
    "\n",
    "def get_num_boxes_in_fmap(idx):\n",
    "    boxes_per_location = cfg.MODEL.PRIORS.BOXES_PER_LOCATION[idx]\n",
    "    feature_map_size = cfg.MODEL.PRIORS.FEATURE_MAPS[idx]\n",
    "    return int(boxes_per_location * np.prod(feature_map_size))\n",
    "\n",
    "offset = sum([get_num_boxes_in_fmap(prev_layer) for prev_layer in range(layer_to_visualize)])\n",
    "boxes_per_location = cfg.MODEL.PRIORS.BOXES_PER_LOCATION[layer_to_visualize]\n",
    "indices_to_visualize = []\n",
    "colors = []\n",
    "available_colors = [\"r\", \"g\", \"b\", \"y\", \"m\", \"b\",\"w\"]\n",
    "for idx in range(offset, offset + get_num_boxes_in_fmap(layer_to_visualize)):\n",
    "    for aspect_ratio_idx in aspect_ratio_indices:\n",
    "        if idx % boxes_per_location == aspect_ratio_idx:\n",
    "            indices_to_visualize.append(idx)\n",
    "            colors.append(available_colors[aspect_ratio_idx])\n",
    "ax.add_artist(plt.Rectangle([0, 0], cfg.INPUT.IMAGE_SIZE[1], cfg.INPUT.IMAGE_SIZE[0]))\n",
    "for i, idx in enumerate(indices_to_visualize):\n",
    "    prior = priors_as_location[idx]\n",
    "    color = colors[i]\n",
    "    plot_bbox(ax, prior, color, PLOT_CIRCLE)"
   ]
  }
 ],
 "metadata": {
  "interpreter": {
   "hash": "aa4d709620dc66a4aa694bf429b112a39c5d568bdcf09efb5c2a7d4e8cf79720"
  },
  "kernelspec": {
   "display_name": "Python (py37)",
   "language": "python",
   "name": "python3"
  },
  "language_info": {
   "codemirror_mode": {
    "name": "ipython",
    "version": 3
   },
   "file_extension": ".py",
   "mimetype": "text/x-python",
   "name": "python",
   "nbconvert_exporter": "python",
   "pygments_lexer": "ipython3",
   "version": "3.9.5"
  }
 },
 "nbformat": 4,
 "nbformat_minor": 4
}
